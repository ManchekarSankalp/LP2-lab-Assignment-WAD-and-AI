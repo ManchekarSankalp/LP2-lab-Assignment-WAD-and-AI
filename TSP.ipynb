{
 "cells": [
  {
   "cell_type": "code",
   "execution_count": 1,
   "metadata": {},
   "outputs": [],
   "source": [
    "import numpy as np\n",
    "def Cal_Dis(city1, city2):\n",
    "    return np.linalg.norm(np.array(city1)-np.array(city2))"
   ]
  },
  {
   "cell_type": "code",
   "execution_count": 5,
   "metadata": {},
   "outputs": [],
   "source": [
    "def NNA(city_coordinates):\n",
    "    num_cities=len(city_coordinates)\n",
    "    unvisited_cities=set(range(num_cities))\n",
    "    tour=[]\n",
    "    current_city=np.random.choice(list(unvisited_cities))\n",
    "    unvisited_cities.remove(current_city)\n",
    "    tour.append(current_city)\n",
    "    while unvisited_cities:\n",
    "        nearest_city=min(unvisited_cities, key=lambda city: Cal_Dis(city_coordinates[current_city],city_coordinates[city]))\n",
    "        unvisited_cities.remove(nearest_city)\n",
    "        tour.append(nearest_city)\n",
    "        current_city=nearest_city\n",
    "    return tour"
   ]
  },
  {
   "cell_type": "code",
   "execution_count": 8,
   "metadata": {},
   "outputs": [],
   "source": [
    "def cal_total_dis(tour,city_coordinates):\n",
    "    total_distance=0\n",
    "    for i in range(len(tour)):\n",
    "        total_distance +=Cal_Dis(city_coordinates[tour[i]], city_coordinates[tour[(i+1)%len(tour)]])\n",
    "        return total_distance"
   ]
  },
  {
   "cell_type": "code",
   "execution_count": 9,
   "metadata": {},
   "outputs": [
    {
     "name": "stdout",
     "output_type": "stream",
     "text": [
      "optimal tour:- [4, 3, 1, 2, 0]\n",
      "total distance traveled:- 2.23606797749979\n"
     ]
    }
   ],
   "source": [
    "city_coordinates=[(0,0),(2,3),(3,1),(4,5),(2,6)]\n",
    "tour=NNA(city_coordinates)\n",
    "total_distance=cal_total_dis(tour , city_coordinates)\n",
    "\n",
    "print(\"optimal tour:-\",tour)\n",
    "print(\"total distance traveled:-\",total_distance)"
   ]
  },
  {
   "cell_type": "code",
   "execution_count": null,
   "metadata": {},
   "outputs": [],
   "source": []
  }
 ],
 "metadata": {
  "kernelspec": {
   "display_name": "Python 3",
   "language": "python",
   "name": "python3"
  },
  "language_info": {
   "codemirror_mode": {
    "name": "ipython",
    "version": 3
   },
   "file_extension": ".py",
   "mimetype": "text/x-python",
   "name": "python",
   "nbconvert_exporter": "python",
   "pygments_lexer": "ipython3",
   "version": "3.8.5"
  }
 },
 "nbformat": 4,
 "nbformat_minor": 4
}
