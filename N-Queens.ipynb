{
 "cells": [
  {
   "cell_type": "code",
   "execution_count": 1,
   "metadata": {},
   "outputs": [],
   "source": [
    "import random\n",
    "def is_valid(board):\n",
    "    n=len(board)\n",
    "    for i in range(n):\n",
    "        for j in range(i+1,n):\n",
    "            if board[i] == board[j] or abs(board[i] - board[j] == abs(i-j)):\n",
    "                return False\n",
    "    return True"
   ]
  },
  {
   "cell_type": "code",
   "execution_count": 5,
   "metadata": {},
   "outputs": [],
   "source": [
    "def cal_heuristic(board):\n",
    "    n=len(board)\n",
    "    conflicts = 0\n",
    "    \n",
    "    for i in range(n):\n",
    "        for j in range(i+1,n):\n",
    "            if board[i]==board[j] or abs(board[i] - board[j] == abs(i-j)):\n",
    "                conflicts +=1\n",
    "    return conflicts"
   ]
  },
  {
   "cell_type": "code",
   "execution_count": 11,
   "metadata": {},
   "outputs": [],
   "source": [
    "def hill_climb(n):\n",
    "    current_board=[random.randint(0,n-1) for _ in range(n)]\n",
    "    current_heuristic=cal_heuristic(current_board)\n",
    "    while current_heuristic>0:\n",
    "        next_board=list(current_board)\n",
    "        for i in range(n):\n",
    "            for j in range(n):\n",
    "                if current_board[i] !=j:\n",
    "                    next_board[i]=j\n",
    "                    next_heuristic=cal_heuristic(next_board)\n",
    "                    if next_heuristic < current_heuristic:\n",
    "                        current_board=list(next_board)\n",
    "                        current_heuristic=next_heuristic\n",
    "        if current_heuristic == cal_heuristic(current_board):\n",
    "            break\n",
    "    return current_board"
   ]
  },
  {
   "cell_type": "code",
   "execution_count": 14,
   "metadata": {},
   "outputs": [
    {
     "name": "stdout",
     "output_type": "stream",
     "text": [
      "N-Queens Solution:- [4, 6, 3, 5, 3, 2, 0, 1]\n"
     ]
    }
   ],
   "source": [
    "n=8\n",
    "sol=hill_climb(n)\n",
    "print(\"N-Queens Solution:-\",sol)"
   ]
  },
  {
   "cell_type": "code",
   "execution_count": null,
   "metadata": {},
   "outputs": [],
   "source": []
  },
  {
   "cell_type": "code",
   "execution_count": null,
   "metadata": {},
   "outputs": [],
   "source": []
  }
 ],
 "metadata": {
  "kernelspec": {
   "display_name": "Python 3",
   "language": "python",
   "name": "python3"
  },
  "language_info": {
   "codemirror_mode": {
    "name": "ipython",
    "version": 3
   },
   "file_extension": ".py",
   "mimetype": "text/x-python",
   "name": "python",
   "nbconvert_exporter": "python",
   "pygments_lexer": "ipython3",
   "version": "3.8.5"
  }
 },
 "nbformat": 4,
 "nbformat_minor": 4
}
