{
 "cells": [
  {
   "cell_type": "code",
   "execution_count": 14,
   "metadata": {
    "scrolled": true
   },
   "outputs": [],
   "source": [
    "from queue import Queue"
   ]
  },
  {
   "cell_type": "code",
   "execution_count": 33,
   "metadata": {},
   "outputs": [],
   "source": [
    "\n",
    "def water_jug_bfs(capacity_jug1 ,capacity_jug2, target):\n",
    "    visited_states=set()\n",
    "    q=Queue()\n",
    "    q.put((0 ,0))\n",
    "    \n",
    "    while not q.empty():\n",
    "        current_state=q.get()\n",
    "        \n",
    "        if current_state in visited_states:\n",
    "            continue\n",
    "        visited_states.add(current_state)\n",
    "            \n",
    "        jug1,jug2=current_state\n",
    "        if jug1 == target or jug2 == target:\n",
    "                return current_state\n",
    "            \n",
    "        q.put((capacity_jug1 , jug2))\n",
    "        q.put((jug1 , capacity_jug2))\n",
    "        q.put((0,jug2))\n",
    "        q.put((jug1,0))\n",
    "                \n",
    "        pour_amt=min(jug1 , capacity_jug2 - jug2)\n",
    "        q.put((jug1 - pour_amt , jug2 + pour_amt))\n",
    "                \n",
    "        pour_amt=min(jug2, capacity_jug1 - jug1)\n",
    "        q.put((jug1 + pour_amt , jug2 - pour_amt))\n",
    "                \n",
    "    return None"
   ]
  },
  {
   "cell_type": "code",
   "execution_count": 34,
   "metadata": {},
   "outputs": [
    {
     "name": "stdout",
     "output_type": "stream",
     "text": [
      "water Jug Solution:- (2, 4)\n"
     ]
    }
   ],
   "source": [
    "capacity_jug1=3\n",
    "capacity_jug2=4\n",
    "target = 2\n",
    "result=water_jug_bfs(capacity_jug1,capacity_jug2,target)\n",
    "print(\"water Jug Solution:-\",result)"
   ]
  },
  {
   "cell_type": "code",
   "execution_count": null,
   "metadata": {},
   "outputs": [],
   "source": []
  }
 ],
 "metadata": {
  "kernelspec": {
   "display_name": "Python 3",
   "language": "python",
   "name": "python3"
  },
  "language_info": {
   "codemirror_mode": {
    "name": "ipython",
    "version": 3
   },
   "file_extension": ".py",
   "mimetype": "text/x-python",
   "name": "python",
   "nbconvert_exporter": "python",
   "pygments_lexer": "ipython3",
   "version": "3.8.5"
  }
 },
 "nbformat": 4,
 "nbformat_minor": 4
}
