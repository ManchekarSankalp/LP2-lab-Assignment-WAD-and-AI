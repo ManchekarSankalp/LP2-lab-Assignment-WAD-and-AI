{
 "cells": [
  {
   "cell_type": "code",
   "execution_count": 1,
   "metadata": {},
   "outputs": [
    {
     "name": "stderr",
     "output_type": "stream",
     "text": [
      "[nltk_data] Downloading package punkt to\n",
      "[nltk_data]     C:\\Users\\sanka\\AppData\\Roaming\\nltk_data...\n",
      "[nltk_data]   Package punkt is already up-to-date!\n",
      "[nltk_data] Downloading package stopwords to\n",
      "[nltk_data]     C:\\Users\\sanka\\AppData\\Roaming\\nltk_data...\n",
      "[nltk_data]   Package stopwords is already up-to-date!\n",
      "[nltk_data] Downloading package averaged_perceptron_tagger to\n",
      "[nltk_data]     C:\\Users\\sanka\\AppData\\Roaming\\nltk_data...\n",
      "[nltk_data]   Package averaged_perceptron_tagger is already up-to-\n",
      "[nltk_data]       date!\n"
     ]
    },
    {
     "data": {
      "text/plain": [
       "True"
      ]
     },
     "execution_count": 1,
     "metadata": {},
     "output_type": "execute_result"
    }
   ],
   "source": [
    "import nltk\n",
    "from nltk import word_tokenize ,FreqDist ,pos_tag\n",
    "from nltk.corpus import stopwords\n",
    "nltk.download('punkt')\n",
    "nltk.download('stopwords')\n",
    "nltk.download('averaged_perceptron_tagger')"
   ]
  },
  {
   "cell_type": "code",
   "execution_count": 5,
   "metadata": {},
   "outputs": [],
   "source": [
    "def text_tokenization(text):\n",
    "    return word_tokenize(text)\n",
    "def count_word_frequency(tokens):\n",
    "    return FreqDist(tokens)\n",
    "def remove_stop_words(tokens):\n",
    "    stop_words=set(stopwords.words('english'))\n",
    "    return [word for word in token if word.lower() not in stop_words]\n",
    "def pos_tagging(tokens):\n",
    "    return pos_tag(tokens)"
   ]
  },
  {
   "cell_type": "code",
   "execution_count": 3,
   "metadata": {},
   "outputs": [
    {
     "name": "stdout",
     "output_type": "stream",
     "text": [
      "enter a sentence or paragraph:-Hi, My Name is Sankalp Viraj Manchekar.i am a national level player from Pune\n",
      "select operation(a.Tokenization , b.Word Frequency , c.Remove Stopwords , d.POS Tagging):-b\n",
      "Word Frequency:- <FreqDist with 28 samples and 77 outcomes>\n"
     ]
    }
   ],
   "source": [
    "text= input(\"enter a sentence or paragraph:-\")\n",
    "operation=input(\"select operation(a.Tokenization , b.Word Frequency , c.Remove Stopwords , d.POS Tagging):-\").lower()\n",
    "\n",
    "if operation =='a':\n",
    "    tokens=text_tokenization(text)\n",
    "    print(\"Tokens:-\",tokens)\n",
    "elif operation =='b':\n",
    "    tokens1=count_word_frequency(text)\n",
    "    print(\"Word Frequency:-\",tokens1)\n",
    "elif operation =='c':\n",
    "    tokens2=remove_stop_words(text)\n",
    "    print(\"Tokens without stopwords:-\",tokens2)\n",
    "elif operation =='d':\n",
    "    tokens3=pos_tagging(text)\n",
    "    print(\"POS Tagging:-\",tokens3)\n",
    "else:\n",
    "    print(\"invalid operations\")"
   ]
  },
  {
   "cell_type": "code",
   "execution_count": 6,
   "metadata": {},
   "outputs": [
    {
     "name": "stdout",
     "output_type": "stream",
     "text": [
      "enter a sentence or paragraph:-hi i am sankalp . i like to play my phone on a free internate\n",
      "select operation(a.Tokenization , b.Word Frequency , c.Remove Stopwords , d.POS Tagging):-a\n",
      "Tokens:- ['hi', 'i', 'am', 'sankalp', '.', 'i', 'like', 'to', 'play', 'my', 'phone', 'on', 'a', 'free', 'internate']\n"
     ]
    }
   ],
   "source": [
    "text= input(\"enter a sentence or paragraph:-\")\n",
    "operation=input(\"select operation(a.Tokenization , b.Word Frequency , c.Remove Stopwords , d.POS Tagging):-\").lower()\n",
    "\n",
    "if operation =='a':\n",
    "    tokens=text_tokenization(text)\n",
    "    print(\"Tokens:-\",tokens)\n",
    "elif operation =='b':\n",
    "    tokens1=count_word_frequency(text)\n",
    "    print(\"Word Frequency:-\",tokens1)\n",
    "elif operation =='c':\n",
    "    tokens2=remove_stop_words(text)\n",
    "    print(\"Tokens without stopwords:-\",tokens2)\n",
    "elif operation =='d':\n",
    "    tokens3=pos_tagging(text)\n",
    "    print(\"POS Tagging:-\",tokens3)\n",
    "else:\n",
    "    print(\"invalid operations\")"
   ]
  },
  {
   "cell_type": "code",
   "execution_count": null,
   "metadata": {},
   "outputs": [],
   "source": []
  }
 ],
 "metadata": {
  "kernelspec": {
   "display_name": "Python 3",
   "language": "python",
   "name": "python3"
  },
  "language_info": {
   "codemirror_mode": {
    "name": "ipython",
    "version": 3
   },
   "file_extension": ".py",
   "mimetype": "text/x-python",
   "name": "python",
   "nbconvert_exporter": "python",
   "pygments_lexer": "ipython3",
   "version": "3.8.5"
  }
 },
 "nbformat": 4,
 "nbformat_minor": 4
}
