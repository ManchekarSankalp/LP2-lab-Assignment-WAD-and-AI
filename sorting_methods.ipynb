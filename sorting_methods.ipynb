{
 "cells": [
  {
   "cell_type": "code",
   "execution_count": 1,
   "metadata": {},
   "outputs": [],
   "source": [
    "def bubble_sort(arr):\n",
    "    n=len(arr)\n",
    "    for i in range(n):\n",
    "        for j in range(0 ,n-i-1):\n",
    "            if arr[j]>arr[j+1]:\n",
    "                arr[j] , arr[j+1]=arr[j+1],arr[j]"
   ]
  },
  {
   "cell_type": "code",
   "execution_count": 2,
   "metadata": {},
   "outputs": [],
   "source": [
    "                \n",
    "def selection_sort(arr):\n",
    "    n = len(arr)\n",
    "    for i in range(n):\n",
    "        min_index = i\n",
    "        for j in range(i+1, n):\n",
    "            if arr[j] < arr[min_index]:\n",
    "                min_index = j\n",
    "        arr[i], arr[min_index] = arr[min_index], arr[i]\n",
    "    \n",
    "\n"
   ]
  },
  {
   "cell_type": "code",
   "execution_count": 3,
   "metadata": {},
   "outputs": [],
   "source": [
    "def merge_sort(arr):\n",
    "    if len(arr) > 1:\n",
    "        mid = len(arr) // 2 #line calculates the middle index of the array arr.\n",
    "        left_half = arr[:mid]\n",
    "        right_half = arr[mid:]\n",
    "        merge_sort(left_half)#recursively calls the merge_sort function on the left half of the array.\n",
    "        merge_sort(right_half)#recursively calls the merge_sort function on the right half of the array.\n",
    "        i = j = k = 0 #k is used as a pointer for the merged array.\n",
    "        while i < len(left_half) and j < len(right_half):\n",
    "            if left_half[i] < right_half[j]:\n",
    "                arr[k] = left_half[i]\n",
    "                i += 1\n",
    "            else:\n",
    "                arr[k] = right_half[j]\n",
    "                j += 1\n",
    "            k += 1\n",
    "        while i < len(left_half):\n",
    "            arr[k] = left_half[i]\n",
    "            i += 1\n",
    "            k += 1\n",
    "\n",
    "        while j < len(right_half):\n",
    "            arr[k] = right_half[j]\n",
    "            j += 1\n",
    "            k += 1"
   ]
  },
  {
   "cell_type": "code",
   "execution_count": 43,
   "metadata": {},
   "outputs": [
    {
     "name": "stdout",
     "output_type": "stream",
     "text": [
      "enter space_separated integers for the array:-6 1 4 8 3 7 2 9\n",
      "enyter sorting method(bubble/selection/merge):-merge\n",
      "merge sort array:- [1, 2, 3, 4, 6, 7, 8, 9]\n"
     ]
    }
   ],
   "source": [
    "input_str = input(\"enter space_separated integers for the array:-\")\n",
    "arr=list(map(int, input_str.split()))\n",
    "sorting_method=input(\"enyter sorting method(bubble/selection/merge):-\").lower()\n",
    "if sorting_method=='bubble':\n",
    "    bubble_sort_arr=list(arr)\n",
    "    bubble_sort(bubble_sort_arr)\n",
    "    print(\"bubble sorted array:-\",bubble_sort_arr)\n",
    "elif sorting_method=='selection':\n",
    "    selection_sort_arr = list(arr)\n",
    "    selection_sort(selection_sort_arr)\n",
    "    print(\"selection sort array:-\",selection_sort_arr)\n",
    "elif sorting_method=='merge':\n",
    "    merge_sorted_arr=list(arr)\n",
    "    merge_sort(merge_sorted_arr)\n",
    "    print(\"merge sort array:-\",merge_sorted_arr)\n",
    "else:\n",
    "    print(\"invalid method of sorting\")"
   ]
  },
  {
   "cell_type": "code",
   "execution_count": null,
   "metadata": {},
   "outputs": [],
   "source": [
    "input_str = input(\"enter space_separated integers for the array:-\")\n",
    "arr=list(map(int, input_str.split()))\n",
    "sorting_method=input(\"enyter sorting method(bubble/selection/merge):-\").lower()\n",
    "if sorting_method=='bubble':\n",
    "    bubble_sort_arr=list(arr)\n",
    "    bubble_sort(bubble_sort_arr)\n",
    "    print(\"bubble sorted array:-\",bubble_sort_arr)\n",
    "elif sorting_method=='selection':\n",
    "    selection_sort_arr = list(arr)\n",
    "    selection_sort(selection_sort_arr)\n",
    "    print(\"selection sort array:-\",selection_sort_arr)\n",
    "elif sorting_method == 'merge':\n",
    "    merge_sorted_arr = list(arr)\n",
    "    merge_sort(merge_sorted_arr)\n",
    "    print(\"merge sort array:-\", merge_sorted_arr)\n",
    "else:\n",
    "    print(\"invalid method of sorting\")"
   ]
  },
  {
   "cell_type": "code",
   "execution_count": 46,
   "metadata": {},
   "outputs": [
    {
     "name": "stdout",
     "output_type": "stream",
     "text": [
      "enter space_separated integers for the array:-2 6 1 9 7 3 \n",
      "enyter sorting method(bubble/selection/merge):-merge\n",
      "merge sort array:- [1, 2, 3, 6, 7, 9]\n"
     ]
    }
   ],
   "source": [
    "input_str = input(\"enter space_separated integers for the array:-\")\n",
    "arr=list(map(int, input_str.split()))\n",
    "sorting_method=input(\"enyter sorting method(bubble/selection/merge):-\").lower()\n",
    "if sorting_method=='bubble':\n",
    "    bubble_sorted_arr=list(arr)\n",
    "    bubble_sort(bubble_sorted_arr)\n",
    "    print(\"bubble sorted array:-\",bubble_sorted_arr)\n",
    "    \n",
    "elif sorting_method=='selection':\n",
    "    selection_sorted_arr=list(arr)\n",
    "    selection_sort(selection_sorted_arr)\n",
    "    print(\"selection sort array:-\",selection_sorted_arr)\n",
    "    \n",
    "elif sorting_method=='merge':\n",
    "    merge_sorted_arr=list(arr)\n",
    "    merge_sort(merge_sorted_arr)\n",
    "    print(\"merge sort array:-\",merge_sorted_arr)\n",
    "    \n",
    "else:\n",
    "    print(\"invalid method of sorting\")"
   ]
  },
  {
   "cell_type": "code",
   "execution_count": null,
   "metadata": {},
   "outputs": [],
   "source": []
  },
  {
   "cell_type": "code",
   "execution_count": null,
   "metadata": {},
   "outputs": [],
   "source": []
  }
 ],
 "metadata": {
  "kernelspec": {
   "display_name": "Python 3",
   "language": "python",
   "name": "python3"
  },
  "language_info": {
   "codemirror_mode": {
    "name": "ipython",
    "version": 3
   },
   "file_extension": ".py",
   "mimetype": "text/x-python",
   "name": "python",
   "nbconvert_exporter": "python",
   "pygments_lexer": "ipython3",
   "version": "3.8.5"
  }
 },
 "nbformat": 4,
 "nbformat_minor": 4
}
